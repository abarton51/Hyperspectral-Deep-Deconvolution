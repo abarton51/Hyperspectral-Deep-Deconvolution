{
 "cells": [
  {
   "cell_type": "code",
   "execution_count": 1,
   "id": "initial_id",
   "metadata": {
    "ExecuteTime": {
     "end_time": "2023-10-19T16:58:41.957598500Z",
     "start_time": "2023-10-19T16:58:39.548701400Z"
    }
   },
   "outputs": [],
   "source": [
    "import numpy as np\n",
    "import torch\n",
    "from pytorch_msssim import ssim, ms_ssim, SSIM, MS_SSIM\n",
    "from Utils import DeblurLoss\n",
    "from torch.autograd import Variable"
   ]
  },
  {
   "cell_type": "code",
   "execution_count": 2,
   "id": "846499a50528f2c6",
   "metadata": {
    "collapsed": false
   },
   "outputs": [],
   "source": [
    "#loss_fn = MS_SSIM(data_range=1.0, win_size=7, size_average=True, channel=3)\n",
    "loss_fn = DeblurLoss.DeblurCustomLoss(is_loss=False)"
   ]
  },
  {
   "cell_type": "code",
   "execution_count": 3,
   "metadata": {},
   "outputs": [
    {
     "name": "stdout",
     "output_type": "stream",
     "text": [
      "tensor(0.0321, requires_grad=True)\n"
     ]
    }
   ],
   "source": [
    "X = torch.rand((2, 3, 128, 128)).to('cpu')\n",
    "Y = torch.rand((2, 3, 128, 128)).to('cpu')\n",
    "loss = loss_fn(X, Y)\n",
    "loss = Variable(loss, requires_grad=True)\n",
    "loss.backward()\n",
    "print(loss)"
   ]
  },
  {
   "cell_type": "code",
   "execution_count": null,
   "metadata": {},
   "outputs": [],
   "source": []
  }
 ],
 "metadata": {
  "kernelspec": {
   "display_name": "Python 3 (ipykernel)",
   "language": "python",
   "name": "python3"
  },
  "language_info": {
   "codemirror_mode": {
    "name": "ipython",
    "version": 3
   },
   "file_extension": ".py",
   "mimetype": "text/x-python",
   "name": "python",
   "nbconvert_exporter": "python",
   "pygments_lexer": "ipython3",
   "version": "3.11.6"
  }
 },
 "nbformat": 4,
 "nbformat_minor": 5
}
